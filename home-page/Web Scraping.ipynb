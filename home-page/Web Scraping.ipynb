{
 "cells": [
  {
   "cell_type": "code",
   "execution_count": 1,
   "metadata": {
    "collapsed": true
   },
   "outputs": [],
   "source": [
    "from bs4 import BeautifulSoup as bs\n",
    "import requests\n",
    "import pymongo\n",
    "import pandas as pd\n",
    "from env import path\n",
    "from splinter import Browser\n",
    "from splinter.browser import Browser\n",
    "import time\n"
   ]
  },
  {
   "cell_type": "code",
   "execution_count": 2,
   "metadata": {
    "collapsed": true
   },
   "outputs": [],
   "source": [
    "executable_path = {'executable_path': path}\n",
    "browser = Browser('chrome',**executable_path, headless=False)\n",
    "\n",
    "fema_url = \"https://www.fema.gov/\"\n",
    "browser.visit(fema_url)\n",
    "fema_html = browser.html\n",
    "fema_soup = bs(fema_html,'html.parser')\n",
    "\n",
    "# natural_disaster_url = \"https://www.usnews.com/topics/subjects/natural_disasters\"\n",
    "# browser.visit(natural_disaster_url)\n",
    "# nd_html = browser.html\n",
    "# nd_soup = bs(nd_html,'html.parser')"
   ]
  },
  {
   "cell_type": "code",
   "execution_count": null,
   "metadata": {
    "collapsed": true
   },
   "outputs": [],
   "source": [
    "def init_browser():\n",
    "    executable_path = {\"executable_path\":path}\n",
    "    return Browser(\"chrome\", **executable_path, headless=False)\n",
    "\n",
    "browser = init_browser()"
   ]
  },
  {
   "cell_type": "code",
   "execution_count": 36,
   "metadata": {
    "collapsed": true
   },
   "outputs": [],
   "source": [
    "#create empty dictionary \n",
    "\n",
    "fema_data={}"
   ]
  },
  {
   "cell_type": "markdown",
   "metadata": {},
   "source": [
    "### FEMA image"
   ]
  },
  {
   "cell_type": "code",
   "execution_count": 37,
   "metadata": {},
   "outputs": [
    {
     "name": "stdout",
     "output_type": "stream",
     "text": [
      "https://www.fema.gov/sites/default/files/uni-home-imgs/wildfires_background.jpg\n"
     ]
    }
   ],
   "source": [
    "main_img = fema_soup.find(\"img\")[\"src\"]\n",
    "print(main_img)\n",
    "\n",
    "fema_data[\"main_img\"] = main_img"
   ]
  },
  {
   "cell_type": "markdown",
   "metadata": {},
   "source": [
    "### FEMA latest title"
   ]
  },
  {
   "cell_type": "code",
   "execution_count": 38,
   "metadata": {},
   "outputs": [
    {
     "data": {
      "text/plain": [
       "' Hawaii volcano eruption prompts evacuations '"
      ]
     },
     "execution_count": 38,
     "metadata": {},
     "output_type": "execute_result"
    }
   ],
   "source": [
    "latest_title = fema_soup.find(\"h2\",\"unicorn-home-page-feature-title\").text\n",
    "\n",
    "fema_data[\"latest_title\"]=latest_title\n",
    "latest_title"
   ]
  },
  {
   "cell_type": "markdown",
   "metadata": {},
   "source": [
    "### FEMA latest body description"
   ]
  },
  {
   "cell_type": "code",
   "execution_count": 39,
   "metadata": {},
   "outputs": [
    {
     "data": {
      "text/plain": [
       "'Hawaii’s Kilauea Volcano erupted Thursday. For information and what to do during and after check out Ready.gov.'"
      ]
     },
     "execution_count": 39,
     "metadata": {},
     "output_type": "execute_result"
    }
   ],
   "source": [
    "latest_description = fema_soup.find(\"p\").text\n",
    "fema_data[\"latest_description\"] = latest_description\n",
    "latest_description"
   ]
  },
  {
   "cell_type": "code",
   "execution_count": 40,
   "metadata": {},
   "outputs": [
    {
     "data": {
      "text/plain": [
       "{'latest_description': 'Hawaii’s Kilauea Volcano erupted Thursday. For information and what to do during and after check out Ready.gov.',\n",
       " 'latest_title': ' Hawaii volcano eruption prompts evacuations ',\n",
       " 'main_img': 'https://www.fema.gov/sites/default/files/uni-home-imgs/wildfires_background.jpg'}"
      ]
     },
     "execution_count": 40,
     "metadata": {},
     "output_type": "execute_result"
    }
   ],
   "source": [
    "fema_data"
   ]
  },
  {
   "cell_type": "code",
   "execution_count": 178,
   "metadata": {
    "collapsed": true
   },
   "outputs": [],
   "source": [
    "# natural_disaster_url = \"https://www.usnews.com/topics/subjects/natural_disasters\"\n",
    "# browser.visit(natural_disaster_url)\n",
    "# time.sleep(1)\n",
    "\n",
    "# full_image_elem = browser.click_link_by_href(\"https://www.usnews.com/news/national-news/articles/2018-05-09/after-volcanic-eruption-hawaii-faces-volcanic-smog-acid-rain\")\n",
    "# # full_image_elem.click()\n",
    "# # time.sleep(2)\n",
    "\n",
    "# full_image_elem"
   ]
  },
  {
   "cell_type": "code",
   "execution_count": 7,
   "metadata": {
    "collapsed": true
   },
   "outputs": [],
   "source": [
    "#featured news article title \n",
    "# top_title = nd_soup.find(\"h3\", \"sc-gqjmRU eZrDvz\").text\n",
    "\n",
    "# scrape_dict[\"top_title\"] = top_title\n",
    "\n",
    "# top_title"
   ]
  },
  {
   "cell_type": "code",
   "execution_count": 8,
   "metadata": {
    "collapsed": true
   },
   "outputs": [],
   "source": [
    "#featured news article description \n",
    "\n",
    "# top_description = nd_soup.find(\"p\",\"Hide-qqa1r2-0 eeNHvZ fqygwe-0-Paragraph-hHEPzZ fQzJGP\").text\n",
    "\n",
    "# scrape_dict[\"top_description\"] = top_description\n",
    "\n",
    "# top_description"
   ]
  },
  {
   "cell_type": "code",
   "execution_count": 9,
   "metadata": {},
   "outputs": [
    {
     "data": {
      "text/plain": [
       "<picture class=\"Image__Picture-s1e9xz9v-0 jnurDR\"><img alt=\"U.S. News &amp; World Report\" class=\"s1e9xz9v-2-Image-daFSPM IGFXj\" src=\"https://www.usnews.com/static/img/usn-logo-large.svg\"/></picture>"
      ]
     },
     "execution_count": 9,
     "metadata": {},
     "output_type": "execute_result"
    }
   ],
   "source": [
    "#featured image\n",
    "\n",
    "# nd_soup.find(\"picture\",\"Image__Picture-s1e9xz9v-0 jnurDR\")"
   ]
  },
  {
   "cell_type": "code",
   "execution_count": 10,
   "metadata": {},
   "outputs": [
    {
     "name": "stdout",
     "output_type": "stream",
     "text": [
      "https://www.usnews.com/dims4/USNEWS/2fedee5/2147483647/thumbnail/84x84/quality/85/?url=http%3A%2F%2Fmedia.beam.usnews.com%2Ff0%2F1ed754360a159d07e341cc34133a47%2Fresizes%2F500%2Ftag%3Areuters.com%2C2018%3Anewsml_LYNXMPEE460FA%3A12018-05-07T075513Z_1_LYNXMPEE460FA_RTROPTP_3_HAWAII-VOLCANO.JPG\n"
     ]
    }
   ],
   "source": [
    "# latest_picture = nd_soup.find(\"img\",\"MediaObject__MediaImage-qwnn1d-0 lfCUoj Image-s1e9xz9v-2 VKAHV\")['src']\n",
    "# print(latest_picture)\n"
   ]
  },
  {
   "cell_type": "code",
   "execution_count": 11,
   "metadata": {},
   "outputs": [
    {
     "data": {
      "text/plain": [
       "\"'Go Now', Hawaii Residents Warned as Eruptions Spread\""
      ]
     },
     "execution_count": 11,
     "metadata": {},
     "output_type": "execute_result"
    }
   ],
   "source": [
    "# latest_title = nd_soup.find(\"h3\",\"sc-bdVaJa iAdiUe\").text\n",
    "\n",
    "# scrape_dict[\"latest_title\"] =latest_title\n",
    "\n",
    "# latest_title"
   ]
  },
  {
   "cell_type": "code",
   "execution_count": 12,
   "metadata": {},
   "outputs": [
    {
     "data": {
      "text/plain": [
       "'Geologists compare the volcano activity to an event that took place in 1955 when eruptions continued for 88 days. '"
      ]
     },
     "execution_count": 12,
     "metadata": {},
     "output_type": "execute_result"
    }
   ],
   "source": [
    "# latest_description =nd_soup.find(\"p\",\"Hide-qqa1r2-0 eeNHvZ Paragraph-fqygwe-0 dpPKTG\").text\n",
    "\n",
    "# scrape_dict[\"latest_description\"] = latest_description\n",
    "\n",
    "# latest_description"
   ]
  }
 ],
 "metadata": {
  "kernelspec": {
   "display_name": "Python[PythonData]",
   "language": "python",
   "name": "pythondata"
  },
  "language_info": {
   "codemirror_mode": {
    "name": "ipython",
    "version": 3
   },
   "file_extension": ".py",
   "mimetype": "text/x-python",
   "name": "python",
   "nbconvert_exporter": "python",
   "pygments_lexer": "ipython3",
   "version": "3.6.5"
  }
 },
 "nbformat": 4,
 "nbformat_minor": 2
}
